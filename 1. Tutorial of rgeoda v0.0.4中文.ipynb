{
 "cells": [
  {
   "cell_type": "markdown",
   "metadata": {},
   "source": [
    "rgeoda是用于空间数据分析的R库。它是libgeoda C ++库的R包装，该库基于GeoDa软件构建。本教程中使用的版本为0.0.4。\n",
    "\n",
    "## 1. 安装rgeoda\n",
    "\n",
    "像GeoDa桌面软件一样，rgeoda可用于不同的平台，包括：Mac，Linux和Windows。\n",
    "\n",
    "### Mac OSX和Linux\n",
    "\n",
    "在R控制台中，使用install.packages（）函数从源pacakge安装rgeoda，package的地址为: https://github.com/lixun910/rgeoda/releases/download/nb/rgeoda_0.0.4.tar.gz\n",
    "\n"
   ]
  },
  {
   "cell_type": "markdown",
   "metadata": {
    "collapsed": true
   },
   "source": [
    "install.packages(\"https://github.com/lixun910/rgeoda/releases/download/nb/rgeoda_0.0.4.tar.gz\")\n"
   ]
  },
  {
   "cell_type": "markdown",
   "metadata": {},
   "source": [
    "### Windows\n",
    "\n",
    "在R控制台中，使用install.packages（）函数从源pacakge安装rgeoda，package的地址为: https://github.com/lixun910/rgeoda/releases/download/nb/rgeoda_0.0.4.zip"
   ]
  },
  {
   "cell_type": "markdown",
   "metadata": {
    "collapsed": true
   },
   "source": [
    "install.packages(\"https://github.com/lixun910/rgeoda/releases/download/nb/rgeoda_0.0.4.zip\")"
   ]
  },
  {
   "cell_type": "markdown",
   "metadata": {},
   "source": [
    "不建议在Windows源代码包中安装rgeoda。如果您知道如何在Windows上使用[R devtools](https://www.r-project.org/nosvn/pandoc/devtools.html)，则可以尝试。\n",
    "\n",
    "\n",
    "### 在R中加载rgeoda库\n",
    "\n",
    "如果所有内容均安装正确，则应该可以运行下面的代码加载rgeoda："
   ]
  },
  {
   "cell_type": "code",
   "execution_count": 1,
   "metadata": {},
   "outputs": [],
   "source": [
    "library(rgeoda)"
   ]
  },
  {
   "cell_type": "markdown",
   "metadata": {},
   "source": [
    "## 2. 读取空间数据\n",
    "\n",
    "rgeoda可以直接读取的数据格式包括: ESRI Shapefile, MapInfo File, CSV, GML, GPX, KML, GeoJSON, TopoJSON, OpenFileGDB, GFT Google Fusion Tables, CouchDB \n",
    "\n",
    "注意：在本教程中，我们仅使用rgeoda v0.0.4测试了加载ESRI shapefile。如果在加载空间数据时遇到任何问题，请提交问题报告到rgeoda的 [网站](https://github.com/lixun910/rgeoda/issues)。\n",
    "\n",
    "例如，要加载软件包自带的ESRI Shapefile Guerry.shp："
   ]
  },
  {
   "cell_type": "code",
   "execution_count": 2,
   "metadata": {},
   "outputs": [],
   "source": [
    "guerry_path <- system.file(\"extdata\", \"Guerry.shp\", package = \"rgeoda\")\n",
    "guerry <- geoda_open(guerry_path)"
   ]
  },
  {
   "cell_type": "markdown",
   "metadata": {},
   "source": [
    "`geoda_open` 函数返回一个geoda对象，该对象带有一个table属性，提供了一个R的dataframe数据结构，可用于访问读入数据的元数据，字段和列。 R 用户可以调用as.data.frame()方法获取个该dataframe数据:"
   ]
  },
  {
   "cell_type": "code",
   "execution_count": 3,
   "metadata": {},
   "outputs": [],
   "source": [
    "guerry_df <- as.data.frame(guerry)"
   ]
  },
  {
   "cell_type": "markdown",
   "metadata": {},
   "source": [
    "#### 2.1 Attributes of `geoda_df` dataframe\n",
    "\n",
    "R用户可以使用通用的dataframe函数来访问数据的基本信息包括："
   ]
  },
  {
   "cell_type": "code",
   "execution_count": 4,
   "metadata": {},
   "outputs": [
    {
     "name": "stdout",
     "output_type": "stream",
     "text": [
      "\n",
      "number of columns: 29\n",
      "number of observations: 85\n",
      "field names: CODE_DE COUNT AVE_ID_ dept Region Dprtmnt Crm_prs Crm_prp Litercy Donatns Infants Suicids MainCty Wealth Commerc Clergy Crm_prn Infntcd Dntn_cl Lottery Desertn Instrct Prsttts Distanc Area Pop1831 TopCrm TopLit TopWealth'data.frame':\t85 obs. of  29 variables:\n",
      " $ CODE_DE  : chr  \"01\" \"02\" \"03\" \"04\" ...\n",
      " $ COUNT    : num  1 1 1 1 1 1 1 1 1 1 ...\n",
      " $ AVE_ID_  : num  49 812 1418 1603 1802 ...\n",
      " $ dept     : int  1 2 3 4 5 7 8 9 10 11 ...\n",
      " $ Region   : chr  \"E\" \"N\" \"C\" \"E\" ...\n",
      " $ Dprtmnt  : chr  \"Ain\" \"Aisne\" \"Allier\" \"Basses-Alpes\" ...\n",
      " $ Crm_prs  : int  28870 26226 26747 12935 17488 9474 35203 6173 19602 15647 ...\n",
      " $ Crm_prp  : int  15890 5521 7925 7289 8174 10263 8847 9597 4086 10431 ...\n",
      " $ Litercy  : int  37 51 13 46 69 27 67 18 59 34 ...\n",
      " $ Donatns  : int  5098 8901 10973 2733 6962 3188 6400 3542 3608 2582 ...\n",
      " $ Infants  : int  33120 14572 17044 23018 23076 42117 16106 22916 18642 20225 ...\n",
      " $ Suicids  : int  35039 12831 114121 14238 16171 52547 26198 123625 10989 66498 ...\n",
      " $ MainCty  : int  2 2 2 1 1 1 2 1 2 2 ...\n",
      " $ Wealth   : int  73 22 61 76 83 84 33 72 14 17 ...\n",
      " $ Commerc  : int  58 10 66 49 65 1 4 60 3 35 ...\n",
      " $ Clergy   : int  11 82 68 5 10 28 50 39 42 15 ...\n",
      " $ Crm_prn  : int  71 4 46 70 22 76 53 74 77 80 ...\n",
      " $ Infntcd  : int  60 82 42 12 23 47 85 28 54 35 ...\n",
      " $ Dntn_cl  : int  69 36 76 37 64 67 49 63 9 27 ...\n",
      " $ Lottery  : int  41 38 66 80 79 70 31 75 28 50 ...\n",
      " $ Desertn  : int  55 82 16 32 35 19 62 22 86 63 ...\n",
      " $ Instrct  : int  46 24 85 29 7 62 9 77 15 48 ...\n",
      " $ Prsttts  : int  13 327 34 2 1 1 83 3 207 1 ...\n",
      " $ Distanc  : num  218.4 65.9 161.9 351.4 320.3 ...\n",
      " $ Area     : int  5762 7369 7340 6925 5549 5529 5229 4890 6004 6139 ...\n",
      " $ Pop1831  : num  346 513 298 156 129 ...\n",
      " $ TopCrm   : num  1 1 1 0 0 0 1 0 0 0 ...\n",
      " $ TopLit   : num  0 1 0 1 1 0 1 0 1 0 ...\n",
      " $ TopWealth: num  1 0 1 1 1 1 0 1 0 0 ...\n",
      "\n",
      "field types:"
     ]
    }
   ],
   "source": [
    "cat(\"\\nnumber of columns:\", ncol(guerry_df))\n",
    "cat(\"\\nnumber of observations:\", nrow(guerry_df))\n",
    "cat(\"\\nfield names:\", names(guerry_df))\n",
    "cat(\"\\nfield types:\", str(guerry_df))"
   ]
  },
  {
   "cell_type": "markdown",
   "metadata": {},
   "source": [
    "### 2.2 Access Table Data\n",
    "\n",
    "R用户可以使用通用的dataframe函数来访问数据的内容：\n",
    "\n",
    "得到第一列的数据"
   ]
  },
  {
   "cell_type": "code",
   "execution_count": 5,
   "metadata": {},
   "outputs": [
    {
     "data": {
      "text/html": [
       "<ol class=list-inline>\n",
       "\t<li>'01'</li>\n",
       "\t<li>'02'</li>\n",
       "\t<li>'03'</li>\n",
       "\t<li>'04'</li>\n",
       "\t<li>'05'</li>\n",
       "\t<li>'07'</li>\n",
       "\t<li>'08'</li>\n",
       "\t<li>'09'</li>\n",
       "\t<li>'10'</li>\n",
       "\t<li>'11'</li>\n",
       "\t<li>'12'</li>\n",
       "\t<li>'13'</li>\n",
       "\t<li>'14'</li>\n",
       "\t<li>'15'</li>\n",
       "\t<li>'16'</li>\n",
       "\t<li>'17'</li>\n",
       "\t<li>'18'</li>\n",
       "\t<li>'19'</li>\n",
       "\t<li>'21'</li>\n",
       "\t<li>'22'</li>\n",
       "\t<li>'23'</li>\n",
       "\t<li>'24'</li>\n",
       "\t<li>'25'</li>\n",
       "\t<li>'26'</li>\n",
       "\t<li>'27'</li>\n",
       "\t<li>'28'</li>\n",
       "\t<li>'29'</li>\n",
       "\t<li>'30'</li>\n",
       "\t<li>'31'</li>\n",
       "\t<li>'32'</li>\n",
       "\t<li>'33'</li>\n",
       "\t<li>'34'</li>\n",
       "\t<li>'35'</li>\n",
       "\t<li>'36'</li>\n",
       "\t<li>'37'</li>\n",
       "\t<li>'38'</li>\n",
       "\t<li>'39'</li>\n",
       "\t<li>'40'</li>\n",
       "\t<li>'41'</li>\n",
       "\t<li>'42'</li>\n",
       "\t<li>'43'</li>\n",
       "\t<li>'44'</li>\n",
       "\t<li>'45'</li>\n",
       "\t<li>'46'</li>\n",
       "\t<li>'47'</li>\n",
       "\t<li>'48'</li>\n",
       "\t<li>'49'</li>\n",
       "\t<li>'50'</li>\n",
       "\t<li>'51'</li>\n",
       "\t<li>'52'</li>\n",
       "\t<li>'53'</li>\n",
       "\t<li>'54'</li>\n",
       "\t<li>'55'</li>\n",
       "\t<li>'56'</li>\n",
       "\t<li>'57'</li>\n",
       "\t<li>'58'</li>\n",
       "\t<li>'59'</li>\n",
       "\t<li>'60'</li>\n",
       "\t<li>'61'</li>\n",
       "\t<li>'62'</li>\n",
       "\t<li>'63'</li>\n",
       "\t<li>'64'</li>\n",
       "\t<li>'65'</li>\n",
       "\t<li>'66'</li>\n",
       "\t<li>'67'</li>\n",
       "\t<li>'68'</li>\n",
       "\t<li>'69'</li>\n",
       "\t<li>'70'</li>\n",
       "\t<li>'71'</li>\n",
       "\t<li>'72'</li>\n",
       "\t<li>'75'</li>\n",
       "\t<li>'76'</li>\n",
       "\t<li>'77'</li>\n",
       "\t<li>'78'</li>\n",
       "\t<li>'79'</li>\n",
       "\t<li>'80'</li>\n",
       "\t<li>'81'</li>\n",
       "\t<li>'82'</li>\n",
       "\t<li>'83'</li>\n",
       "\t<li>'84'</li>\n",
       "\t<li>'85'</li>\n",
       "\t<li>'86'</li>\n",
       "\t<li>'87'</li>\n",
       "\t<li>'88'</li>\n",
       "\t<li>'89'</li>\n",
       "</ol>\n"
      ],
      "text/latex": [
       "\\begin{enumerate*}\n",
       "\\item '01'\n",
       "\\item '02'\n",
       "\\item '03'\n",
       "\\item '04'\n",
       "\\item '05'\n",
       "\\item '07'\n",
       "\\item '08'\n",
       "\\item '09'\n",
       "\\item '10'\n",
       "\\item '11'\n",
       "\\item '12'\n",
       "\\item '13'\n",
       "\\item '14'\n",
       "\\item '15'\n",
       "\\item '16'\n",
       "\\item '17'\n",
       "\\item '18'\n",
       "\\item '19'\n",
       "\\item '21'\n",
       "\\item '22'\n",
       "\\item '23'\n",
       "\\item '24'\n",
       "\\item '25'\n",
       "\\item '26'\n",
       "\\item '27'\n",
       "\\item '28'\n",
       "\\item '29'\n",
       "\\item '30'\n",
       "\\item '31'\n",
       "\\item '32'\n",
       "\\item '33'\n",
       "\\item '34'\n",
       "\\item '35'\n",
       "\\item '36'\n",
       "\\item '37'\n",
       "\\item '38'\n",
       "\\item '39'\n",
       "\\item '40'\n",
       "\\item '41'\n",
       "\\item '42'\n",
       "\\item '43'\n",
       "\\item '44'\n",
       "\\item '45'\n",
       "\\item '46'\n",
       "\\item '47'\n",
       "\\item '48'\n",
       "\\item '49'\n",
       "\\item '50'\n",
       "\\item '51'\n",
       "\\item '52'\n",
       "\\item '53'\n",
       "\\item '54'\n",
       "\\item '55'\n",
       "\\item '56'\n",
       "\\item '57'\n",
       "\\item '58'\n",
       "\\item '59'\n",
       "\\item '60'\n",
       "\\item '61'\n",
       "\\item '62'\n",
       "\\item '63'\n",
       "\\item '64'\n",
       "\\item '65'\n",
       "\\item '66'\n",
       "\\item '67'\n",
       "\\item '68'\n",
       "\\item '69'\n",
       "\\item '70'\n",
       "\\item '71'\n",
       "\\item '72'\n",
       "\\item '75'\n",
       "\\item '76'\n",
       "\\item '77'\n",
       "\\item '78'\n",
       "\\item '79'\n",
       "\\item '80'\n",
       "\\item '81'\n",
       "\\item '82'\n",
       "\\item '83'\n",
       "\\item '84'\n",
       "\\item '85'\n",
       "\\item '86'\n",
       "\\item '87'\n",
       "\\item '88'\n",
       "\\item '89'\n",
       "\\end{enumerate*}\n"
      ],
      "text/markdown": [
       "1. '01'\n",
       "2. '02'\n",
       "3. '03'\n",
       "4. '04'\n",
       "5. '05'\n",
       "6. '07'\n",
       "7. '08'\n",
       "8. '09'\n",
       "9. '10'\n",
       "10. '11'\n",
       "11. '12'\n",
       "12. '13'\n",
       "13. '14'\n",
       "14. '15'\n",
       "15. '16'\n",
       "16. '17'\n",
       "17. '18'\n",
       "18. '19'\n",
       "19. '21'\n",
       "20. '22'\n",
       "21. '23'\n",
       "22. '24'\n",
       "23. '25'\n",
       "24. '26'\n",
       "25. '27'\n",
       "26. '28'\n",
       "27. '29'\n",
       "28. '30'\n",
       "29. '31'\n",
       "30. '32'\n",
       "31. '33'\n",
       "32. '34'\n",
       "33. '35'\n",
       "34. '36'\n",
       "35. '37'\n",
       "36. '38'\n",
       "37. '39'\n",
       "38. '40'\n",
       "39. '41'\n",
       "40. '42'\n",
       "41. '43'\n",
       "42. '44'\n",
       "43. '45'\n",
       "44. '46'\n",
       "45. '47'\n",
       "46. '48'\n",
       "47. '49'\n",
       "48. '50'\n",
       "49. '51'\n",
       "50. '52'\n",
       "51. '53'\n",
       "52. '54'\n",
       "53. '55'\n",
       "54. '56'\n",
       "55. '57'\n",
       "56. '58'\n",
       "57. '59'\n",
       "58. '60'\n",
       "59. '61'\n",
       "60. '62'\n",
       "61. '63'\n",
       "62. '64'\n",
       "63. '65'\n",
       "64. '66'\n",
       "65. '67'\n",
       "66. '68'\n",
       "67. '69'\n",
       "68. '70'\n",
       "69. '71'\n",
       "70. '72'\n",
       "71. '75'\n",
       "72. '76'\n",
       "73. '77'\n",
       "74. '78'\n",
       "75. '79'\n",
       "76. '80'\n",
       "77. '81'\n",
       "78. '82'\n",
       "79. '83'\n",
       "80. '84'\n",
       "81. '85'\n",
       "82. '86'\n",
       "83. '87'\n",
       "84. '88'\n",
       "85. '89'\n",
       "\n",
       "\n"
      ],
      "text/plain": [
       " [1] \"01\" \"02\" \"03\" \"04\" \"05\" \"07\" \"08\" \"09\" \"10\" \"11\" \"12\" \"13\" \"14\" \"15\" \"16\"\n",
       "[16] \"17\" \"18\" \"19\" \"21\" \"22\" \"23\" \"24\" \"25\" \"26\" \"27\" \"28\" \"29\" \"30\" \"31\" \"32\"\n",
       "[31] \"33\" \"34\" \"35\" \"36\" \"37\" \"38\" \"39\" \"40\" \"41\" \"42\" \"43\" \"44\" \"45\" \"46\" \"47\"\n",
       "[46] \"48\" \"49\" \"50\" \"51\" \"52\" \"53\" \"54\" \"55\" \"56\" \"57\" \"58\" \"59\" \"60\" \"61\" \"62\"\n",
       "[61] \"63\" \"64\" \"65\" \"66\" \"67\" \"68\" \"69\" \"70\" \"71\" \"72\" \"75\" \"76\" \"77\" \"78\" \"79\"\n",
       "[76] \"80\" \"81\" \"82\" \"83\" \"84\" \"85\" \"86\" \"87\" \"88\" \"89\""
      ]
     },
     "metadata": {},
     "output_type": "display_data"
    }
   ],
   "source": [
    "guerry_df[,1]"
   ]
  },
  {
   "cell_type": "markdown",
   "metadata": {},
   "source": [
    "得到第一行的数据"
   ]
  },
  {
   "cell_type": "code",
   "execution_count": 6,
   "metadata": {},
   "outputs": [
    {
     "data": {
      "text/html": [
       "<table>\n",
       "<caption>A data.frame: 1 × 29</caption>\n",
       "<thead>\n",
       "\t<tr><th></th><th scope=col>CODE_DE</th><th scope=col>COUNT</th><th scope=col>AVE_ID_</th><th scope=col>dept</th><th scope=col>Region</th><th scope=col>Dprtmnt</th><th scope=col>Crm_prs</th><th scope=col>Crm_prp</th><th scope=col>Litercy</th><th scope=col>Donatns</th><th scope=col>⋯</th><th scope=col>Lottery</th><th scope=col>Desertn</th><th scope=col>Instrct</th><th scope=col>Prsttts</th><th scope=col>Distanc</th><th scope=col>Area</th><th scope=col>Pop1831</th><th scope=col>TopCrm</th><th scope=col>TopLit</th><th scope=col>TopWealth</th></tr>\n",
       "\t<tr><th></th><th scope=col>&lt;chr&gt;</th><th scope=col>&lt;dbl&gt;</th><th scope=col>&lt;dbl&gt;</th><th scope=col>&lt;int&gt;</th><th scope=col>&lt;chr&gt;</th><th scope=col>&lt;chr&gt;</th><th scope=col>&lt;int&gt;</th><th scope=col>&lt;int&gt;</th><th scope=col>&lt;int&gt;</th><th scope=col>&lt;int&gt;</th><th scope=col>⋯</th><th scope=col>&lt;int&gt;</th><th scope=col>&lt;int&gt;</th><th scope=col>&lt;int&gt;</th><th scope=col>&lt;int&gt;</th><th scope=col>&lt;dbl&gt;</th><th scope=col>&lt;int&gt;</th><th scope=col>&lt;dbl&gt;</th><th scope=col>&lt;dbl&gt;</th><th scope=col>&lt;dbl&gt;</th><th scope=col>&lt;dbl&gt;</th></tr>\n",
       "</thead>\n",
       "<tbody>\n",
       "\t<tr><th scope=row>NA</th><td>01</td><td>1</td><td>49</td><td>1</td><td>E</td><td>Ain</td><td>28870</td><td>15890</td><td>37</td><td>5098</td><td>⋯</td><td>41</td><td>55</td><td>46</td><td>13</td><td>218.372</td><td>5762</td><td>346.03</td><td>1</td><td>0</td><td>1</td></tr>\n",
       "</tbody>\n",
       "</table>\n"
      ],
      "text/latex": [
       "A data.frame: 1 × 29\n",
       "\\begin{tabular}{r|lllllllllllllllllllllllllllll}\n",
       "  & CODE\\_DE & COUNT & AVE\\_ID\\_ & dept & Region & Dprtmnt & Crm\\_prs & Crm\\_prp & Litercy & Donatns & Infants & Suicids & MainCty & Wealth & Commerc & Clergy & Crm\\_prn & Infntcd & Dntn\\_cl & Lottery & Desertn & Instrct & Prsttts & Distanc & Area & Pop1831 & TopCrm & TopLit & TopWealth\\\\\n",
       "  & <chr> & <dbl> & <dbl> & <int> & <chr> & <chr> & <int> & <int> & <int> & <int> & <int> & <int> & <int> & <int> & <int> & <int> & <int> & <int> & <int> & <int> & <int> & <int> & <int> & <dbl> & <int> & <dbl> & <dbl> & <dbl> & <dbl>\\\\\n",
       "\\hline\n",
       "\tNA & 01 & 1 & 49 & 1 & E & Ain & 28870 & 15890 & 37 & 5098 & 33120 & 35039 & 2 & 73 & 58 & 11 & 71 & 60 & 69 & 41 & 55 & 46 & 13 & 218.372 & 5762 & 346.03 & 1 & 0 & 1\\\\\n",
       "\\end{tabular}\n"
      ],
      "text/markdown": [
       "\n",
       "A data.frame: 1 × 29\n",
       "\n",
       "| <!--/--> | CODE_DE &lt;chr&gt; | COUNT &lt;dbl&gt; | AVE_ID_ &lt;dbl&gt; | dept &lt;int&gt; | Region &lt;chr&gt; | Dprtmnt &lt;chr&gt; | Crm_prs &lt;int&gt; | Crm_prp &lt;int&gt; | Litercy &lt;int&gt; | Donatns &lt;int&gt; | ⋯ ⋯ | Lottery &lt;int&gt; | Desertn &lt;int&gt; | Instrct &lt;int&gt; | Prsttts &lt;int&gt; | Distanc &lt;dbl&gt; | Area &lt;int&gt; | Pop1831 &lt;dbl&gt; | TopCrm &lt;dbl&gt; | TopLit &lt;dbl&gt; | TopWealth &lt;dbl&gt; |\n",
       "|---|---|---|---|---|---|---|---|---|---|---|---|---|---|---|---|---|---|---|---|---|---|\n",
       "| NA | 01 | 1 | 49 | 1 | E | Ain | 28870 | 15890 | 37 | 5098 | ⋯ | 41 | 55 | 46 | 13 | 218.372 | 5762 | 346.03 | 1 | 0 | 1 |\n",
       "\n"
      ],
      "text/plain": [
       "   CODE_DE COUNT AVE_ID_ dept Region Dprtmnt Crm_prs Crm_prp Litercy Donatns ⋯\n",
       "NA 01      1     49      1    E      Ain     28870   15890   37      5098    ⋯\n",
       "   Lottery Desertn Instrct Prsttts Distanc Area Pop1831 TopCrm TopLit TopWealth\n",
       "NA 41      55      46      13      218.372 5762 346.03  1      0      1        "
      ]
     },
     "metadata": {},
     "output_type": "display_data"
    }
   ],
   "source": [
    "guerry_df[1,]"
   ]
  },
  {
   "cell_type": "markdown",
   "metadata": {},
   "source": [
    "得到第3，5列的数据"
   ]
  },
  {
   "cell_type": "code",
   "execution_count": 7,
   "metadata": {},
   "outputs": [
    {
     "data": {
      "text/html": [
       "<table>\n",
       "<caption>A data.frame: 85 × 2</caption>\n",
       "<thead>\n",
       "\t<tr><th></th><th scope=col>AVE_ID_</th><th scope=col>Region</th></tr>\n",
       "\t<tr><th></th><th scope=col>&lt;dbl&gt;</th><th scope=col>&lt;chr&gt;</th></tr>\n",
       "</thead>\n",
       "<tbody>\n",
       "\t<tr><th scope=row>NA</th><td>   49</td><td>E</td></tr>\n",
       "\t<tr><th scope=row>NA.1</th><td>  812</td><td>N</td></tr>\n",
       "\t<tr><th scope=row>NA.2</th><td> 1418</td><td>C</td></tr>\n",
       "\t<tr><th scope=row>NA.3</th><td> 1603</td><td>E</td></tr>\n",
       "\t<tr><th scope=row>NA.4</th><td> 1802</td><td>E</td></tr>\n",
       "\t<tr><th scope=row>NA.5</th><td> 2249</td><td>S</td></tr>\n",
       "\t<tr><th scope=row>NA.6</th><td>35395</td><td>N</td></tr>\n",
       "\t<tr><th scope=row>NA.7</th><td> 2526</td><td>S</td></tr>\n",
       "\t<tr><th scope=row>NA.8</th><td>34410</td><td>E</td></tr>\n",
       "\t<tr><th scope=row>NA.9</th><td> 2807</td><td>S</td></tr>\n",
       "\t<tr><th scope=row>NA.10</th><td> 3369</td><td>S</td></tr>\n",
       "\t<tr><th scope=row>NA.11</th><td> 3515</td><td>S</td></tr>\n",
       "\t<tr><th scope=row>NA.12</th><td> 3667</td><td>N</td></tr>\n",
       "\t<tr><th scope=row>NA.13</th><td> 4268</td><td>C</td></tr>\n",
       "\t<tr><th scope=row>NA.14</th><td> 4527</td><td>W</td></tr>\n",
       "\t<tr><th scope=row>NA.15</th><td> 5205</td><td>W</td></tr>\n",
       "\t<tr><th scope=row>NA.16</th><td> 5417</td><td>C</td></tr>\n",
       "\t<tr><th scope=row>NA.17</th><td> 5942</td><td>C</td></tr>\n",
       "\t<tr><th scope=row>NA.18</th><td> 6174</td><td>E</td></tr>\n",
       "\t<tr><th scope=row>NA.19</th><td>33634</td><td>W</td></tr>\n",
       "\t<tr><th scope=row>NA.20</th><td> 6735</td><td>C</td></tr>\n",
       "\t<tr><th scope=row>NA.21</th><td> 7186</td><td>W</td></tr>\n",
       "\t<tr><th scope=row>NA.22</th><td> 7482</td><td>E</td></tr>\n",
       "\t<tr><th scope=row>NA.23</th><td> 8370</td><td>E</td></tr>\n",
       "\t<tr><th scope=row>NA.24</th><td> 8612</td><td>N</td></tr>\n",
       "\t<tr><th scope=row>NA.25</th><td> 9143</td><td>C</td></tr>\n",
       "\t<tr><th scope=row>NA.26</th><td> 9659</td><td>W</td></tr>\n",
       "\t<tr><th scope=row>NA.27</th><td>10264</td><td>S</td></tr>\n",
       "\t<tr><th scope=row>NA.28</th><td>10962</td><td>S</td></tr>\n",
       "\t<tr><th scope=row>NA.29</th><td>11008</td><td>S</td></tr>\n",
       "\t<tr><th scope=row>⋮</th><td>⋮</td><td>⋮</td></tr>\n",
       "\t<tr><th scope=row>NA.55</th><td>20037</td><td>C</td></tr>\n",
       "\t<tr><th scope=row>NA.56</th><td>36521</td><td>N</td></tr>\n",
       "\t<tr><th scope=row>NA.57</th><td>20823</td><td>N</td></tr>\n",
       "\t<tr><th scope=row>NA.58</th><td>21456</td><td>N</td></tr>\n",
       "\t<tr><th scope=row>NA.59</th><td>21990</td><td>N</td></tr>\n",
       "\t<tr><th scope=row>NA.60</th><td>22829</td><td>C</td></tr>\n",
       "\t<tr><th scope=row>NA.61</th><td>23572</td><td>W</td></tr>\n",
       "\t<tr><th scope=row>NA.62</th><td>24112</td><td>S</td></tr>\n",
       "\t<tr><th scope=row>NA.63</th><td>24280</td><td>S</td></tr>\n",
       "\t<tr><th scope=row>NA.64</th><td>24814</td><td>E</td></tr>\n",
       "\t<tr><th scope=row>NA.65</th><td>24947</td><td>E</td></tr>\n",
       "\t<tr><th scope=row>NA.66</th><td>25381</td><td>E</td></tr>\n",
       "\t<tr><th scope=row>NA.67</th><td>26063</td><td>E</td></tr>\n",
       "\t<tr><th scope=row>NA.68</th><td>26357</td><td>E</td></tr>\n",
       "\t<tr><th scope=row>NA.69</th><td>26842</td><td>C</td></tr>\n",
       "\t<tr><th scope=row>NA.70</th><td>31560</td><td>N</td></tr>\n",
       "\t<tr><th scope=row>NA.71</th><td>28118</td><td>N</td></tr>\n",
       "\t<tr><th scope=row>NA.72</th><td>28566</td><td>N</td></tr>\n",
       "\t<tr><th scope=row>NA.73</th><td>31598</td><td>N</td></tr>\n",
       "\t<tr><th scope=row>NA.74</th><td>29204</td><td>W</td></tr>\n",
       "\t<tr><th scope=row>NA.75</th><td>29360</td><td>N</td></tr>\n",
       "\t<tr><th scope=row>NA.76</th><td>30128</td><td>S</td></tr>\n",
       "\t<tr><th scope=row>NA.77</th><td>30546</td><td>S</td></tr>\n",
       "\t<tr><th scope=row>NA.78</th><td>30753</td><td>S</td></tr>\n",
       "\t<tr><th scope=row>NA.79</th><td>30777</td><td>S</td></tr>\n",
       "\t<tr><th scope=row>NA.80</th><td>31097</td><td>W</td></tr>\n",
       "\t<tr><th scope=row>NA.81</th><td>31387</td><td>W</td></tr>\n",
       "\t<tr><th scope=row>NA.82</th><td>31564</td><td>C</td></tr>\n",
       "\t<tr><th scope=row>NA.83</th><td>31810</td><td>E</td></tr>\n",
       "\t<tr><th scope=row>NA.84</th><td>32129</td><td>C</td></tr>\n",
       "</tbody>\n",
       "</table>\n"
      ],
      "text/latex": [
       "A data.frame: 85 × 2\n",
       "\\begin{tabular}{r|ll}\n",
       "  & AVE\\_ID\\_ & Region\\\\\n",
       "  & <dbl> & <chr>\\\\\n",
       "\\hline\n",
       "\tNA &    49 & E\\\\\n",
       "\tNA.1 &   812 & N\\\\\n",
       "\tNA.2 &  1418 & C\\\\\n",
       "\tNA.3 &  1603 & E\\\\\n",
       "\tNA.4 &  1802 & E\\\\\n",
       "\tNA.5 &  2249 & S\\\\\n",
       "\tNA.6 & 35395 & N\\\\\n",
       "\tNA.7 &  2526 & S\\\\\n",
       "\tNA.8 & 34410 & E\\\\\n",
       "\tNA.9 &  2807 & S\\\\\n",
       "\tNA.10 &  3369 & S\\\\\n",
       "\tNA.11 &  3515 & S\\\\\n",
       "\tNA.12 &  3667 & N\\\\\n",
       "\tNA.13 &  4268 & C\\\\\n",
       "\tNA.14 &  4527 & W\\\\\n",
       "\tNA.15 &  5205 & W\\\\\n",
       "\tNA.16 &  5417 & C\\\\\n",
       "\tNA.17 &  5942 & C\\\\\n",
       "\tNA.18 &  6174 & E\\\\\n",
       "\tNA.19 & 33634 & W\\\\\n",
       "\tNA.20 &  6735 & C\\\\\n",
       "\tNA.21 &  7186 & W\\\\\n",
       "\tNA.22 &  7482 & E\\\\\n",
       "\tNA.23 &  8370 & E\\\\\n",
       "\tNA.24 &  8612 & N\\\\\n",
       "\tNA.25 &  9143 & C\\\\\n",
       "\tNA.26 &  9659 & W\\\\\n",
       "\tNA.27 & 10264 & S\\\\\n",
       "\tNA.28 & 10962 & S\\\\\n",
       "\tNA.29 & 11008 & S\\\\\n",
       "\t⋮ & ⋮ & ⋮\\\\\n",
       "\tNA.55 & 20037 & C\\\\\n",
       "\tNA.56 & 36521 & N\\\\\n",
       "\tNA.57 & 20823 & N\\\\\n",
       "\tNA.58 & 21456 & N\\\\\n",
       "\tNA.59 & 21990 & N\\\\\n",
       "\tNA.60 & 22829 & C\\\\\n",
       "\tNA.61 & 23572 & W\\\\\n",
       "\tNA.62 & 24112 & S\\\\\n",
       "\tNA.63 & 24280 & S\\\\\n",
       "\tNA.64 & 24814 & E\\\\\n",
       "\tNA.65 & 24947 & E\\\\\n",
       "\tNA.66 & 25381 & E\\\\\n",
       "\tNA.67 & 26063 & E\\\\\n",
       "\tNA.68 & 26357 & E\\\\\n",
       "\tNA.69 & 26842 & C\\\\\n",
       "\tNA.70 & 31560 & N\\\\\n",
       "\tNA.71 & 28118 & N\\\\\n",
       "\tNA.72 & 28566 & N\\\\\n",
       "\tNA.73 & 31598 & N\\\\\n",
       "\tNA.74 & 29204 & W\\\\\n",
       "\tNA.75 & 29360 & N\\\\\n",
       "\tNA.76 & 30128 & S\\\\\n",
       "\tNA.77 & 30546 & S\\\\\n",
       "\tNA.78 & 30753 & S\\\\\n",
       "\tNA.79 & 30777 & S\\\\\n",
       "\tNA.80 & 31097 & W\\\\\n",
       "\tNA.81 & 31387 & W\\\\\n",
       "\tNA.82 & 31564 & C\\\\\n",
       "\tNA.83 & 31810 & E\\\\\n",
       "\tNA.84 & 32129 & C\\\\\n",
       "\\end{tabular}\n"
      ],
      "text/markdown": [
       "\n",
       "A data.frame: 85 × 2\n",
       "\n",
       "| <!--/--> | AVE_ID_ &lt;dbl&gt; | Region &lt;chr&gt; |\n",
       "|---|---|---|\n",
       "| NA |    49 | E |\n",
       "| NA.1 |   812 | N |\n",
       "| NA.2 |  1418 | C |\n",
       "| NA.3 |  1603 | E |\n",
       "| NA.4 |  1802 | E |\n",
       "| NA.5 |  2249 | S |\n",
       "| NA.6 | 35395 | N |\n",
       "| NA.7 |  2526 | S |\n",
       "| NA.8 | 34410 | E |\n",
       "| NA.9 |  2807 | S |\n",
       "| NA.10 |  3369 | S |\n",
       "| NA.11 |  3515 | S |\n",
       "| NA.12 |  3667 | N |\n",
       "| NA.13 |  4268 | C |\n",
       "| NA.14 |  4527 | W |\n",
       "| NA.15 |  5205 | W |\n",
       "| NA.16 |  5417 | C |\n",
       "| NA.17 |  5942 | C |\n",
       "| NA.18 |  6174 | E |\n",
       "| NA.19 | 33634 | W |\n",
       "| NA.20 |  6735 | C |\n",
       "| NA.21 |  7186 | W |\n",
       "| NA.22 |  7482 | E |\n",
       "| NA.23 |  8370 | E |\n",
       "| NA.24 |  8612 | N |\n",
       "| NA.25 |  9143 | C |\n",
       "| NA.26 |  9659 | W |\n",
       "| NA.27 | 10264 | S |\n",
       "| NA.28 | 10962 | S |\n",
       "| NA.29 | 11008 | S |\n",
       "| ⋮ | ⋮ | ⋮ |\n",
       "| NA.55 | 20037 | C |\n",
       "| NA.56 | 36521 | N |\n",
       "| NA.57 | 20823 | N |\n",
       "| NA.58 | 21456 | N |\n",
       "| NA.59 | 21990 | N |\n",
       "| NA.60 | 22829 | C |\n",
       "| NA.61 | 23572 | W |\n",
       "| NA.62 | 24112 | S |\n",
       "| NA.63 | 24280 | S |\n",
       "| NA.64 | 24814 | E |\n",
       "| NA.65 | 24947 | E |\n",
       "| NA.66 | 25381 | E |\n",
       "| NA.67 | 26063 | E |\n",
       "| NA.68 | 26357 | E |\n",
       "| NA.69 | 26842 | C |\n",
       "| NA.70 | 31560 | N |\n",
       "| NA.71 | 28118 | N |\n",
       "| NA.72 | 28566 | N |\n",
       "| NA.73 | 31598 | N |\n",
       "| NA.74 | 29204 | W |\n",
       "| NA.75 | 29360 | N |\n",
       "| NA.76 | 30128 | S |\n",
       "| NA.77 | 30546 | S |\n",
       "| NA.78 | 30753 | S |\n",
       "| NA.79 | 30777 | S |\n",
       "| NA.80 | 31097 | W |\n",
       "| NA.81 | 31387 | W |\n",
       "| NA.82 | 31564 | C |\n",
       "| NA.83 | 31810 | E |\n",
       "| NA.84 | 32129 | C |\n",
       "\n"
      ],
      "text/plain": [
       "      AVE_ID_ Region\n",
       "NA       49   E     \n",
       "NA.1    812   N     \n",
       "NA.2   1418   C     \n",
       "NA.3   1603   E     \n",
       "NA.4   1802   E     \n",
       "NA.5   2249   S     \n",
       "NA.6  35395   N     \n",
       "NA.7   2526   S     \n",
       "NA.8  34410   E     \n",
       "NA.9   2807   S     \n",
       "NA.10  3369   S     \n",
       "NA.11  3515   S     \n",
       "NA.12  3667   N     \n",
       "NA.13  4268   C     \n",
       "NA.14  4527   W     \n",
       "NA.15  5205   W     \n",
       "NA.16  5417   C     \n",
       "NA.17  5942   C     \n",
       "NA.18  6174   E     \n",
       "NA.19 33634   W     \n",
       "NA.20  6735   C     \n",
       "NA.21  7186   W     \n",
       "NA.22  7482   E     \n",
       "NA.23  8370   E     \n",
       "NA.24  8612   N     \n",
       "NA.25  9143   C     \n",
       "NA.26  9659   W     \n",
       "NA.27 10264   S     \n",
       "NA.28 10962   S     \n",
       "NA.29 11008   S     \n",
       "⋮     ⋮       ⋮     \n",
       "NA.55 20037   C     \n",
       "NA.56 36521   N     \n",
       "NA.57 20823   N     \n",
       "NA.58 21456   N     \n",
       "NA.59 21990   N     \n",
       "NA.60 22829   C     \n",
       "NA.61 23572   W     \n",
       "NA.62 24112   S     \n",
       "NA.63 24280   S     \n",
       "NA.64 24814   E     \n",
       "NA.65 24947   E     \n",
       "NA.66 25381   E     \n",
       "NA.67 26063   E     \n",
       "NA.68 26357   E     \n",
       "NA.69 26842   C     \n",
       "NA.70 31560   N     \n",
       "NA.71 28118   N     \n",
       "NA.72 28566   N     \n",
       "NA.73 31598   N     \n",
       "NA.74 29204   W     \n",
       "NA.75 29360   N     \n",
       "NA.76 30128   S     \n",
       "NA.77 30546   S     \n",
       "NA.78 30753   S     \n",
       "NA.79 30777   S     \n",
       "NA.80 31097   W     \n",
       "NA.81 31387   W     \n",
       "NA.82 31564   C     \n",
       "NA.83 31810   E     \n",
       "NA.84 32129   C     "
      ]
     },
     "metadata": {},
     "output_type": "display_data"
    }
   ],
   "source": [
    "guerry_df[,c(3,5)]"
   ]
  },
  {
   "cell_type": "markdown",
   "metadata": {},
   "source": [
    "得到名为'Crm_prs'列的数据"
   ]
  },
  {
   "cell_type": "code",
   "execution_count": 8,
   "metadata": {},
   "outputs": [
    {
     "data": {
      "text/html": [
       "<table>\n",
       "<caption>A data.frame: 85 × 1</caption>\n",
       "<thead>\n",
       "\t<tr><th></th><th scope=col>Crm_prs</th></tr>\n",
       "\t<tr><th></th><th scope=col>&lt;int&gt;</th></tr>\n",
       "</thead>\n",
       "<tbody>\n",
       "\t<tr><th scope=row>NA</th><td>28870</td></tr>\n",
       "\t<tr><th scope=row>NA.1</th><td>26226</td></tr>\n",
       "\t<tr><th scope=row>NA.2</th><td>26747</td></tr>\n",
       "\t<tr><th scope=row>NA.3</th><td>12935</td></tr>\n",
       "\t<tr><th scope=row>NA.4</th><td>17488</td></tr>\n",
       "\t<tr><th scope=row>NA.5</th><td> 9474</td></tr>\n",
       "\t<tr><th scope=row>NA.6</th><td>35203</td></tr>\n",
       "\t<tr><th scope=row>NA.7</th><td> 6173</td></tr>\n",
       "\t<tr><th scope=row>NA.8</th><td>19602</td></tr>\n",
       "\t<tr><th scope=row>NA.9</th><td>15647</td></tr>\n",
       "\t<tr><th scope=row>NA.10</th><td> 8236</td></tr>\n",
       "\t<tr><th scope=row>NA.11</th><td>13409</td></tr>\n",
       "\t<tr><th scope=row>NA.12</th><td>17577</td></tr>\n",
       "\t<tr><th scope=row>NA.13</th><td>18070</td></tr>\n",
       "\t<tr><th scope=row>NA.14</th><td>24964</td></tr>\n",
       "\t<tr><th scope=row>NA.15</th><td>18712</td></tr>\n",
       "\t<tr><th scope=row>NA.16</th><td>21934</td></tr>\n",
       "\t<tr><th scope=row>NA.17</th><td>15262</td></tr>\n",
       "\t<tr><th scope=row>NA.18</th><td>32256</td></tr>\n",
       "\t<tr><th scope=row>NA.19</th><td>28607</td></tr>\n",
       "\t<tr><th scope=row>NA.20</th><td>37014</td></tr>\n",
       "\t<tr><th scope=row>NA.21</th><td>21585</td></tr>\n",
       "\t<tr><th scope=row>NA.22</th><td>11560</td></tr>\n",
       "\t<tr><th scope=row>NA.23</th><td>13396</td></tr>\n",
       "\t<tr><th scope=row>NA.24</th><td>14795</td></tr>\n",
       "\t<tr><th scope=row>NA.25</th><td>21368</td></tr>\n",
       "\t<tr><th scope=row>NA.26</th><td>29872</td></tr>\n",
       "\t<tr><th scope=row>NA.27</th><td>13115</td></tr>\n",
       "\t<tr><th scope=row>NA.28</th><td>18642</td></tr>\n",
       "\t<tr><th scope=row>NA.29</th><td>18642</td></tr>\n",
       "\t<tr><th scope=row>⋮</th><td>⋮</td></tr>\n",
       "\t<tr><th scope=row>NA.55</th><td>25087</td></tr>\n",
       "\t<tr><th scope=row>NA.56</th><td>26740</td></tr>\n",
       "\t<tr><th scope=row>NA.57</th><td>28180</td></tr>\n",
       "\t<tr><th scope=row>NA.58</th><td>28329</td></tr>\n",
       "\t<tr><th scope=row>NA.59</th><td>23101</td></tr>\n",
       "\t<tr><th scope=row>NA.60</th><td>17256</td></tr>\n",
       "\t<tr><th scope=row>NA.61</th><td>16722</td></tr>\n",
       "\t<tr><th scope=row>NA.62</th><td>12223</td></tr>\n",
       "\t<tr><th scope=row>NA.63</th><td> 6728</td></tr>\n",
       "\t<tr><th scope=row>NA.64</th><td>12309</td></tr>\n",
       "\t<tr><th scope=row>NA.65</th><td> 7343</td></tr>\n",
       "\t<tr><th scope=row>NA.66</th><td>18793</td></tr>\n",
       "\t<tr><th scope=row>NA.67</th><td>22339</td></tr>\n",
       "\t<tr><th scope=row>NA.68</th><td>28391</td></tr>\n",
       "\t<tr><th scope=row>NA.69</th><td>33913</td></tr>\n",
       "\t<tr><th scope=row>NA.70</th><td>13945</td></tr>\n",
       "\t<tr><th scope=row>NA.71</th><td>18355</td></tr>\n",
       "\t<tr><th scope=row>NA.72</th><td>22201</td></tr>\n",
       "\t<tr><th scope=row>NA.73</th><td>12477</td></tr>\n",
       "\t<tr><th scope=row>NA.74</th><td>18400</td></tr>\n",
       "\t<tr><th scope=row>NA.75</th><td>33592</td></tr>\n",
       "\t<tr><th scope=row>NA.76</th><td>13019</td></tr>\n",
       "\t<tr><th scope=row>NA.77</th><td>14790</td></tr>\n",
       "\t<tr><th scope=row>NA.78</th><td>13145</td></tr>\n",
       "\t<tr><th scope=row>NA.79</th><td>13576</td></tr>\n",
       "\t<tr><th scope=row>NA.80</th><td>20827</td></tr>\n",
       "\t<tr><th scope=row>NA.81</th><td>15010</td></tr>\n",
       "\t<tr><th scope=row>NA.82</th><td>16256</td></tr>\n",
       "\t<tr><th scope=row>NA.83</th><td>18835</td></tr>\n",
       "\t<tr><th scope=row>NA.84</th><td>18006</td></tr>\n",
       "</tbody>\n",
       "</table>\n"
      ],
      "text/latex": [
       "A data.frame: 85 × 1\n",
       "\\begin{tabular}{r|l}\n",
       "  & Crm\\_prs\\\\\n",
       "  & <int>\\\\\n",
       "\\hline\n",
       "\tNA & 28870\\\\\n",
       "\tNA.1 & 26226\\\\\n",
       "\tNA.2 & 26747\\\\\n",
       "\tNA.3 & 12935\\\\\n",
       "\tNA.4 & 17488\\\\\n",
       "\tNA.5 &  9474\\\\\n",
       "\tNA.6 & 35203\\\\\n",
       "\tNA.7 &  6173\\\\\n",
       "\tNA.8 & 19602\\\\\n",
       "\tNA.9 & 15647\\\\\n",
       "\tNA.10 &  8236\\\\\n",
       "\tNA.11 & 13409\\\\\n",
       "\tNA.12 & 17577\\\\\n",
       "\tNA.13 & 18070\\\\\n",
       "\tNA.14 & 24964\\\\\n",
       "\tNA.15 & 18712\\\\\n",
       "\tNA.16 & 21934\\\\\n",
       "\tNA.17 & 15262\\\\\n",
       "\tNA.18 & 32256\\\\\n",
       "\tNA.19 & 28607\\\\\n",
       "\tNA.20 & 37014\\\\\n",
       "\tNA.21 & 21585\\\\\n",
       "\tNA.22 & 11560\\\\\n",
       "\tNA.23 & 13396\\\\\n",
       "\tNA.24 & 14795\\\\\n",
       "\tNA.25 & 21368\\\\\n",
       "\tNA.26 & 29872\\\\\n",
       "\tNA.27 & 13115\\\\\n",
       "\tNA.28 & 18642\\\\\n",
       "\tNA.29 & 18642\\\\\n",
       "\t⋮ & ⋮\\\\\n",
       "\tNA.55 & 25087\\\\\n",
       "\tNA.56 & 26740\\\\\n",
       "\tNA.57 & 28180\\\\\n",
       "\tNA.58 & 28329\\\\\n",
       "\tNA.59 & 23101\\\\\n",
       "\tNA.60 & 17256\\\\\n",
       "\tNA.61 & 16722\\\\\n",
       "\tNA.62 & 12223\\\\\n",
       "\tNA.63 &  6728\\\\\n",
       "\tNA.64 & 12309\\\\\n",
       "\tNA.65 &  7343\\\\\n",
       "\tNA.66 & 18793\\\\\n",
       "\tNA.67 & 22339\\\\\n",
       "\tNA.68 & 28391\\\\\n",
       "\tNA.69 & 33913\\\\\n",
       "\tNA.70 & 13945\\\\\n",
       "\tNA.71 & 18355\\\\\n",
       "\tNA.72 & 22201\\\\\n",
       "\tNA.73 & 12477\\\\\n",
       "\tNA.74 & 18400\\\\\n",
       "\tNA.75 & 33592\\\\\n",
       "\tNA.76 & 13019\\\\\n",
       "\tNA.77 & 14790\\\\\n",
       "\tNA.78 & 13145\\\\\n",
       "\tNA.79 & 13576\\\\\n",
       "\tNA.80 & 20827\\\\\n",
       "\tNA.81 & 15010\\\\\n",
       "\tNA.82 & 16256\\\\\n",
       "\tNA.83 & 18835\\\\\n",
       "\tNA.84 & 18006\\\\\n",
       "\\end{tabular}\n"
      ],
      "text/markdown": [
       "\n",
       "A data.frame: 85 × 1\n",
       "\n",
       "| <!--/--> | Crm_prs &lt;int&gt; |\n",
       "|---|---|\n",
       "| NA | 28870 |\n",
       "| NA.1 | 26226 |\n",
       "| NA.2 | 26747 |\n",
       "| NA.3 | 12935 |\n",
       "| NA.4 | 17488 |\n",
       "| NA.5 |  9474 |\n",
       "| NA.6 | 35203 |\n",
       "| NA.7 |  6173 |\n",
       "| NA.8 | 19602 |\n",
       "| NA.9 | 15647 |\n",
       "| NA.10 |  8236 |\n",
       "| NA.11 | 13409 |\n",
       "| NA.12 | 17577 |\n",
       "| NA.13 | 18070 |\n",
       "| NA.14 | 24964 |\n",
       "| NA.15 | 18712 |\n",
       "| NA.16 | 21934 |\n",
       "| NA.17 | 15262 |\n",
       "| NA.18 | 32256 |\n",
       "| NA.19 | 28607 |\n",
       "| NA.20 | 37014 |\n",
       "| NA.21 | 21585 |\n",
       "| NA.22 | 11560 |\n",
       "| NA.23 | 13396 |\n",
       "| NA.24 | 14795 |\n",
       "| NA.25 | 21368 |\n",
       "| NA.26 | 29872 |\n",
       "| NA.27 | 13115 |\n",
       "| NA.28 | 18642 |\n",
       "| NA.29 | 18642 |\n",
       "| ⋮ | ⋮ |\n",
       "| NA.55 | 25087 |\n",
       "| NA.56 | 26740 |\n",
       "| NA.57 | 28180 |\n",
       "| NA.58 | 28329 |\n",
       "| NA.59 | 23101 |\n",
       "| NA.60 | 17256 |\n",
       "| NA.61 | 16722 |\n",
       "| NA.62 | 12223 |\n",
       "| NA.63 |  6728 |\n",
       "| NA.64 | 12309 |\n",
       "| NA.65 |  7343 |\n",
       "| NA.66 | 18793 |\n",
       "| NA.67 | 22339 |\n",
       "| NA.68 | 28391 |\n",
       "| NA.69 | 33913 |\n",
       "| NA.70 | 13945 |\n",
       "| NA.71 | 18355 |\n",
       "| NA.72 | 22201 |\n",
       "| NA.73 | 12477 |\n",
       "| NA.74 | 18400 |\n",
       "| NA.75 | 33592 |\n",
       "| NA.76 | 13019 |\n",
       "| NA.77 | 14790 |\n",
       "| NA.78 | 13145 |\n",
       "| NA.79 | 13576 |\n",
       "| NA.80 | 20827 |\n",
       "| NA.81 | 15010 |\n",
       "| NA.82 | 16256 |\n",
       "| NA.83 | 18835 |\n",
       "| NA.84 | 18006 |\n",
       "\n"
      ],
      "text/plain": [
       "      Crm_prs\n",
       "NA    28870  \n",
       "NA.1  26226  \n",
       "NA.2  26747  \n",
       "NA.3  12935  \n",
       "NA.4  17488  \n",
       "NA.5   9474  \n",
       "NA.6  35203  \n",
       "NA.7   6173  \n",
       "NA.8  19602  \n",
       "NA.9  15647  \n",
       "NA.10  8236  \n",
       "NA.11 13409  \n",
       "NA.12 17577  \n",
       "NA.13 18070  \n",
       "NA.14 24964  \n",
       "NA.15 18712  \n",
       "NA.16 21934  \n",
       "NA.17 15262  \n",
       "NA.18 32256  \n",
       "NA.19 28607  \n",
       "NA.20 37014  \n",
       "NA.21 21585  \n",
       "NA.22 11560  \n",
       "NA.23 13396  \n",
       "NA.24 14795  \n",
       "NA.25 21368  \n",
       "NA.26 29872  \n",
       "NA.27 13115  \n",
       "NA.28 18642  \n",
       "NA.29 18642  \n",
       "⋮     ⋮      \n",
       "NA.55 25087  \n",
       "NA.56 26740  \n",
       "NA.57 28180  \n",
       "NA.58 28329  \n",
       "NA.59 23101  \n",
       "NA.60 17256  \n",
       "NA.61 16722  \n",
       "NA.62 12223  \n",
       "NA.63  6728  \n",
       "NA.64 12309  \n",
       "NA.65  7343  \n",
       "NA.66 18793  \n",
       "NA.67 22339  \n",
       "NA.68 28391  \n",
       "NA.69 33913  \n",
       "NA.70 13945  \n",
       "NA.71 18355  \n",
       "NA.72 22201  \n",
       "NA.73 12477  \n",
       "NA.74 18400  \n",
       "NA.75 33592  \n",
       "NA.76 13019  \n",
       "NA.77 14790  \n",
       "NA.78 13145  \n",
       "NA.79 13576  \n",
       "NA.80 20827  \n",
       "NA.81 15010  \n",
       "NA.82 16256  \n",
       "NA.83 18835  \n",
       "NA.84 18006  "
      ]
     },
     "metadata": {},
     "output_type": "display_data"
    }
   ],
   "source": [
    "guerry_df['Crm_prs']"
   ]
  },
  {
   "cell_type": "markdown",
   "metadata": {},
   "source": [
    "注意：上面的代码返回的结果是一个data.frame，如果需要得到该列的数值数据："
   ]
  },
  {
   "cell_type": "code",
   "execution_count": 9,
   "metadata": {},
   "outputs": [],
   "source": [
    "crm_prs <- guerry_df['Crm_prs'][,1]"
   ]
  },
  {
   "cell_type": "markdown",
   "metadata": {},
   "source": [
    "如果想根据名称来取得多个列的数据则可以扩展上面的代码为：\n",
    "\n",
    "得到名为:Crm_prs, Crm_prp的数据"
   ]
  },
  {
   "cell_type": "code",
   "execution_count": 10,
   "metadata": {},
   "outputs": [],
   "source": [
    "crm_prs_prp <- guerry_df[c('Crm_prs', 'Crm_prp')]"
   ]
  },
  {
   "cell_type": "markdown",
   "metadata": {},
   "source": [
    "## 3. 空间权重\n",
    "\n",
    "空间权重是空间数据分析的核心组成部分。空间权重表示空间中观测值之间可能存在的空间相互作用。像GeoDa桌面软件一样，rgeoda提供了多种方法来创建几种不同类型的空间权重：\n",
    "\n",
    "* 基于邻接的权重Contiguity Based Weights: `queen_weights()`, `rook_weights()`\n",
    "* 基于距离的权重Distance Based Weights: `distance_weights()`\n",
    "* K最近邻居权重: `knn_weights()`\n",
    "* 基于核函数的距离权重: `distance_weights()` and `knn_weights()` with kernel parameters\n",
    "\n",
    "### 3.1 Queen邻接权重\n",
    "\n",
    "要创建Queen邻接权重，我们可以调用函数："
   ]
  },
  {
   "cell_type": "markdown",
   "metadata": {
    "collapsed": true
   },
   "source": [
    "```\n",
    "gda_queen(gda, order=1, include_lower_order = False, precision_threshold = 0)\n",
    "``` \n",
    "\n",
    "使用我们刚刚创建的GeoDa对象guerry作为参数："
   ]
  },
  {
   "cell_type": "code",
   "execution_count": 11,
   "metadata": {},
   "outputs": [
    {
     "data": {
      "text/html": [
       "<table>\n",
       "<caption>A data.frame: 10 × 2</caption>\n",
       "<thead>\n",
       "\t<tr><th scope=col>name</th><th scope=col>value</th></tr>\n",
       "\t<tr><th scope=col>&lt;I&lt;chr&gt;&gt;</th><th scope=col>&lt;I&lt;chr&gt;&gt;</th></tr>\n",
       "</thead>\n",
       "<tbody>\n",
       "\t<tr><td>number of observations:</td><td>85              </td></tr>\n",
       "\t<tr><td>weights type:          </td><td>gal_type        </td></tr>\n",
       "\t<tr><td>is symmetric:          </td><td>TRUE            </td></tr>\n",
       "\t<tr><td>sparsity:              </td><td>0               </td></tr>\n",
       "\t<tr><td>density:               </td><td>5.81314878892734</td></tr>\n",
       "\t<tr><td># min neighbors:       </td><td>2               </td></tr>\n",
       "\t<tr><td># max neighbors:       </td><td>8               </td></tr>\n",
       "\t<tr><td># mean neighbors:      </td><td>4.94117647058824</td></tr>\n",
       "\t<tr><td># median neighbors:    </td><td>5               </td></tr>\n",
       "\t<tr><td>has isolates:          </td><td>FALSE           </td></tr>\n",
       "</tbody>\n",
       "</table>\n"
      ],
      "text/latex": [
       "A data.frame: 10 × 2\n",
       "\\begin{tabular}{r|ll}\n",
       " name & value\\\\\n",
       " <I<chr>> & <I<chr>>\\\\\n",
       "\\hline\n",
       "\t number of observations: & 85              \\\\\n",
       "\t weights type:           & gal\\_type        \\\\\n",
       "\t is symmetric:           & TRUE            \\\\\n",
       "\t sparsity:               & 0               \\\\\n",
       "\t density:                & 5.81314878892734\\\\\n",
       "\t \\# min neighbors:        & 2               \\\\\n",
       "\t \\# max neighbors:        & 8               \\\\\n",
       "\t \\# mean neighbors:       & 4.94117647058824\\\\\n",
       "\t \\# median neighbors:     & 5               \\\\\n",
       "\t has isolates:           & FALSE           \\\\\n",
       "\\end{tabular}\n"
      ],
      "text/markdown": [
       "\n",
       "A data.frame: 10 × 2\n",
       "\n",
       "| name &lt;I&lt;chr&gt;&gt; | value &lt;I&lt;chr&gt;&gt; |\n",
       "|---|---|\n",
       "| number of observations: | 85               |\n",
       "| weights type:           | gal_type         |\n",
       "| is symmetric:           | TRUE             |\n",
       "| sparsity:               | 0                |\n",
       "| density:                | 5.81314878892734 |\n",
       "| # min neighbors:        | 2                |\n",
       "| # max neighbors:        | 8                |\n",
       "| # mean neighbors:       | 4.94117647058824 |\n",
       "| # median neighbors:     | 5                |\n",
       "| has isolates:           | FALSE            |\n",
       "\n"
      ],
      "text/plain": [
       "   name                    value           \n",
       "1  number of observations: 85              \n",
       "2  weights type:           gal_type        \n",
       "3  is symmetric:           TRUE            \n",
       "4  sparsity:               0               \n",
       "5  density:                5.81314878892734\n",
       "6  # min neighbors:        2               \n",
       "7  # max neighbors:        8               \n",
       "8  # mean neighbors:       4.94117647058824\n",
       "9  # median neighbors:     5               \n",
       "10 has isolates:           FALSE           "
      ]
     },
     "metadata": {},
     "output_type": "display_data"
    }
   ],
   "source": [
    "queen_w <- queen_weights(guerry)\n",
    "summary(queen_w)"
   ]
  },
  {
   "cell_type": "markdown",
   "metadata": {},
   "source": [
    "该函数queen_weights()返回一个Weight对象实例。通过访问该对象的属性，可以访问空间权重的元数据：\n",
    "\n",
    "#### Attributes of `Weight` object\n",
    "\n",
    "检查权重矩阵是否为对称矩阵："
   ]
  },
  {
   "cell_type": "code",
   "execution_count": 12,
   "metadata": {},
   "outputs": [
    {
     "data": {
      "text/html": [
       "TRUE"
      ],
      "text/latex": [
       "TRUE"
      ],
      "text/markdown": [
       "TRUE"
      ],
      "text/plain": [
       "[1] TRUE"
      ]
     },
     "metadata": {},
     "output_type": "display_data"
    }
   ],
   "source": [
    "is_symmetric(queen_w)"
   ]
  },
  {
   "cell_type": "code",
   "execution_count": 13,
   "metadata": {},
   "outputs": [
    {
     "data": {
      "text/html": [
       "FALSE"
      ],
      "text/latex": [
       "FALSE"
      ],
      "text/markdown": [
       "FALSE"
      ],
      "text/plain": [
       "[1] FALSE"
      ]
     },
     "metadata": {},
     "output_type": "display_data"
    }
   ],
   "source": [
    "has_isolates(queen_w)"
   ]
  },
  {
   "cell_type": "code",
   "execution_count": 14,
   "metadata": {},
   "outputs": [
    {
     "data": {
      "text/html": [
       "0"
      ],
      "text/latex": [
       "0"
      ],
      "text/markdown": [
       "0"
      ],
      "text/plain": [
       "[1] 0"
      ]
     },
     "metadata": {},
     "output_type": "display_data"
    }
   ],
   "source": [
    "weights_sparsity(queen_w)"
   ]
  },
  {
   "cell_type": "code",
   "execution_count": 15,
   "metadata": {},
   "outputs": [
    {
     "data": {
      "text/html": [
       "5.81314878892734"
      ],
      "text/latex": [
       "5.81314878892734"
      ],
      "text/markdown": [
       "5.81314878892734"
      ],
      "text/plain": [
       "[1] 5.813149"
      ]
     },
     "metadata": {},
     "output_type": "display_data"
    }
   ],
   "source": [
    "weights_density(queen_w)"
   ]
  },
  {
   "cell_type": "markdown",
   "metadata": {},
   "source": [
    "我们还可以访问权重的详细信息：例如，列出指定观察值的邻居，这对探索性空间数据分析（将在下一个教程中重点介绍）非常有帮助："
   ]
  },
  {
   "cell_type": "code",
   "execution_count": 16,
   "metadata": {},
   "outputs": [
    {
     "name": "stdout",
     "output_type": "stream",
     "text": [
      "\n",
      "Neighbors of 1-st observation are: 36 37 67 69"
     ]
    }
   ],
   "source": [
    "nbrs <- get_neighbors(queen_w, idx = 1)\n",
    "cat(\"\\nNeighbors of 1-st observation are:\", nbrs)"
   ]
  },
  {
   "cell_type": "markdown",
   "metadata": {},
   "source": [
    "我们还可以通过传递某个选中变量的值来计算指定观测值的空间滞后(spatial lag)，比如计算第一个对象在Queen权重下的空间滞后的值（邻居的值进行空间加权后的和）："
   ]
  },
  {
   "cell_type": "code",
   "execution_count": 17,
   "metadata": {},
   "outputs": [
    {
     "name": "stdout",
     "output_type": "stream",
     "text": [
      "\n",
      "Spatial lag of 1-st observation is: 23047.5"
     ]
    }
   ],
   "source": [
    "lag0 <- spatial_lag(queen_w, idx = 1, values = crm_prs)\n",
    "cat(\"\\nSpatial lag of 1-st observation is:\", lag0)"
   ]
  },
  {
   "cell_type": "markdown",
   "metadata": {},
   "source": [
    "### 3.2 Rook连续性权重\n",
    "\n",
    "要创建Rook邻接权重，我们可以调用函数："
   ]
  },
  {
   "cell_type": "markdown",
   "metadata": {
    "collapsed": true
   },
   "source": [
    "```\n",
    "rook_weights(gda, order=1,include_lower_order=False, precision_threshold = 0)\n",
    "``` \n",
    "\n",
    "例如："
   ]
  },
  {
   "cell_type": "code",
   "execution_count": null,
   "metadata": {
    "collapsed": true
   },
   "outputs": [],
   "source": [
    "rook_w <- rook_weights(guerry)\n",
    "summary(rook_w)"
   ]
  },
  {
   "cell_type": "markdown",
   "metadata": {},
   "source": [
    "请注意：我们创建的权重位于内存中，这使其可以直接进行空间数据分析，也方便您调用rgeoda来编写应用程序。如果要将权重保存到文件中，可以调用函数："
   ]
  },
  {
   "cell_type": "code",
   "execution_count": null,
   "metadata": {
    "collapsed": true
   },
   "outputs": [],
   "source": [
    "save_weights(gda_w, out_path, layer_name, id_name, id_values)"
   ]
  },
  {
   "cell_type": "markdown",
   "metadata": {},
   "source": [
    "`out_path` 为保存文件的路径，比如：c:/test/guerry.gal\n",
    "\n",
    "`layer_name`是被加载的数据集的层名称。对于ESRI shapefile，`layer_name`是不带后缀的文件名（例如Guerry）。\n",
    "\n",
    "`id_name`是一个键值（某个列的名称），切该列中仅包含唯一值（没有重复的值），这样可以确保权重可以对应到原始数据中的正确的观察对象。\n",
    "\n",
    "`id_values`则是实际`id_name`列的数据，它可以是整数或字符串值类型。\n",
    "\n",
    "例如，在Guerry数据集中，“ CODE_DE”列可用作保存权重文件的键（id_name)："
   ]
  },
  {
   "cell_type": "code",
   "execution_count": null,
   "metadata": {
    "collapsed": true
   },
   "outputs": [],
   "source": [
    "save_weights(rook_w, out_path = '/Users/xun/Downloads/Guerry_r.gal', \n",
    "             layer_name = 'Guerry', \n",
    "             id_name = 'CODE_DE', \n",
    "             id_values = as.integer(guerry_df['CODE_DE'][,1]))"
   ]
  },
  {
   "cell_type": "markdown",
   "metadata": {},
   "source": [
    "运行成功后，我们应该在输出目录可以中找到生成的空间权重文件“ Guerry_r.gal”\n",
    "\n",
    "### 3.3 基于距离的权重\n",
    "\n",
    "要创建基于距离的权重，我们可以调用函数:"
   ]
  },
  {
   "cell_type": "markdown",
   "metadata": {
    "collapsed": true
   },
   "source": [
    "```\n",
    "distance_weights(geoda_obj, dist_thres, power=1.0,  is_inverse=False, is_arc=False, is_mile=True)\n",
    "``` \n",
    "通过传递刚创建的GeoDa对象guerry和距离阈值dist_thres。像GeoDa软件一样，rgeoda提供了一个函数来帮助您找到合适的距离阈值: min_distthreshold()。该函数返回的距离阈值可确保每个观测值至少具有一个邻居。\n",
    "\n",
    "```\n",
    "min_distthreshold(GeoDa gda, bool is_arc = False, bool is_mile = True)\n",
    "```"
   ]
  },
  {
   "cell_type": "markdown",
   "metadata": {},
   "source": [
    "请注意：该距离阈值并不适合于所有的情况，比如在基于核函数的空间权重创建中，较大的距离阈值会得到比较好的空间权重。"
   ]
  },
  {
   "cell_type": "code",
   "execution_count": null,
   "metadata": {
    "collapsed": true
   },
   "outputs": [],
   "source": [
    "dist_thres <- min_distthreshold(guerry)\n",
    "dist_w <- distance_weights(guerry, dist_thres)\n",
    "summary(dist_w)"
   ]
  },
  {
   "cell_type": "markdown",
   "metadata": {},
   "source": [
    "### 3.4 K最近邻空间权重\n",
    "\n",
    "K最近邻空间权重是基于距离权重的一种特殊情况，其中每个观测值将恰好具有k个邻居。要创建K最近邻空间权重，我们可以调用函数："
   ]
  },
  {
   "cell_type": "code",
   "execution_count": null,
   "metadata": {
    "collapsed": true
   },
   "outputs": [],
   "source": [
    "knn_weights(gda, k, power = 1.0, is_inverse = False, is_arc = False, is_mile = True)"
   ]
  },
  {
   "cell_type": "markdown",
   "metadata": {},
   "source": [
    "例如，使用Guerry数据集创建6个最近邻的空间权重："
   ]
  },
  {
   "cell_type": "code",
   "execution_count": null,
   "metadata": {
    "collapsed": true
   },
   "outputs": [],
   "source": [
    "knn6_w <- knn_weights(guerry, k= 6)\n",
    "summary(knn6_w)"
   ]
  },
  {
   "cell_type": "markdown",
   "metadata": {},
   "source": [
    "### 3.5  基于核函数的空间权重\n",
    "\n",
    "基于核函数的空间权重是另一种基于距离的空间权重，其应用核函数来确定权重值如何在距离上衰减。核函数不直接作用于对象i与对象j之间的距离dij，而是距离与设定距离阈值的比率z=dij/hi：K(z)。和GeoDa桌面软件一样，rgeoda提供的核函数包括了：\n",
    "\n",
    "* triangular\n",
    "* uniform \n",
    "* quadratic\n",
    "* epanechnikov\n",
    "* quartic\n",
    "* gaussian\n",
    "\n",
    "根据设定距离阈值的方式，基于核函数的空间权重创建方分为两种：固定带宽的核函数空间权重，和自适应带宽的核函数空间权重。\n",
    "\n",
    "#### 3.5.1 固定带宽的核函数空间权重\n",
    "\n",
    "您可以使用下面的函数创建固定带宽的核函数空间权重:"
   ]
  },
  {
   "cell_type": "code",
   "execution_count": null,
   "metadata": {
    "collapsed": true
   },
   "outputs": [],
   "source": [
    "bandwidth <- min_distthreshold(guerry)\n",
    "kernel_w <- kernel_weights(guerry, bandwidth, kernel_method = \"uniform\")\n",
    "summary(kernel_w)"
   ]
  },
  {
   "cell_type": "markdown",
   "metadata": {},
   "source": [
    "其中参数`is_inverse`, `power`, `is_arc` 和`is_mile` 与函数distance_weights() knn_weights()一样，除此之外该函数还提供了另外一个核函数相关的参数："
   ]
  },
  {
   "cell_type": "markdown",
   "metadata": {
    "collapsed": true
   },
   "source": [
    "use_kernel_diagonals\t\n",
    "(optional) FALSE (default) or TRUE, apply kernel on the diagonal of weights matrix"
   ]
  },
  {
   "cell_type": "markdown",
   "metadata": {},
   "source": [
    "该参数决定空间权重矩阵的对角线上的值为1还是Kernel(0)。这也是基于 核函数的空间权重和普通的基于距离的空间权重的区别。\n",
    "\n",
    "\n",
    "#### 3.5.2 自适应带宽的核函数空间权重\n",
    "\n",
    "您可以使用下面的函数创建自适应带宽的核函数空间权重:"
   ]
  },
  {
   "cell_type": "code",
   "execution_count": null,
   "metadata": {
    "collapsed": true
   },
   "outputs": [],
   "source": [
    "adptkernel_w = kernel_knn_weights(guerry, 6, \"uniform\")\n",
    "\n",
    "summary(adptkernel_w)"
   ]
  },
  {
   "cell_type": "markdown",
   "metadata": {},
   "source": [
    "This kernel weights function two more options:\n",
    "除了`use_kernel_diagonals`参数外，该函数还提供了另外一个参数来控制如何使用自适应带宽："
   ]
  },
  {
   "cell_type": "markdown",
   "metadata": {
    "collapsed": true
   },
   "source": [
    "adaptive_bandwidth\t\n",
    "(optional) TRUE (default) or FALSE: TRUE use adaptive bandwidth calculated using distance of k-nearest neithbors, FALSE use max distance of all observation to their k-nearest neighbors"
   ]
  },
  {
   "cell_type": "markdown",
   "metadata": {},
   "source": [
    "该参数决定是否使用所有对象使用相同的带宽(到第K个邻居之间距离的最大值)，还是每个对象都使用不同的带宽（到K个邻居的距离）。\n",
    "\n",
    "## 4 空间数据分析\n",
    "\n",
    "\n",
    "### 4.1 局部空间自相关分析\n",
    "\n",
    "rgeoda 0.0.4提供了下列局部空间自相关统计的方法：\n",
    "\n",
    "* Local Moran: local_moran()\n",
    "* Local Geary: local_geary(), local_multigeary()\n",
    "* Local Getis-Ord statistics: local_g() and local_gstar()\n",
    "* Local Join Count: local_joincount(), local_multijoincount()\n",
    "* Quantile LISA: local_quantilelisa()\n",
    "\n",
    "\n",
    "下一个版本的rgeoda将包含用于更多的局部空间自相关统计以及全局空间自相关统计的方法。\n",
    "\n",
    "在本教程中，我们将仅介绍如何使用pygeoda调用这些方法。有关局部空间自相关统计信息的更多信息，请阅读：http : //geodacenter.github.io/workbook/6a_local_auto/lab6a.html。\n",
    "\n",
    "#### 4.1.1 Local Moran\n",
    "\n",
    "局部Moran统计量是一种识别局部聚类和局部空间离群值的方法。例如，我们可以调用`local_moran()`, 并使用创建的空间权重`queen_w`和数据`crm_prp`作为输入参数："
   ]
  },
  {
   "cell_type": "code",
   "execution_count": null,
   "metadata": {
    "collapsed": true
   },
   "outputs": [],
   "source": [
    "lisa <- local_moran(queen_w, crm_prs)"
   ]
  },
  {
   "cell_type": "markdown",
   "metadata": {},
   "source": [
    "该local_moran()函数将返回一个LISA对象，该对象存储了局部空间自相关分析计算的结果。\n",
    "\n",
    "例如，我们可以调用该函数`lisa_values(lisa_obj)`以获取本地Moran的值："
   ]
  },
  {
   "cell_type": "code",
   "execution_count": null,
   "metadata": {
    "collapsed": true
   },
   "outputs": [],
   "source": [
    "lms <- lisa_values(gda_lisa = lisa)\n",
    "lms"
   ]
  },
  {
   "cell_type": "markdown",
   "metadata": {},
   "source": [
    "调用`lisa_pvalues()`来获得局部Moran统计中显著性意义的伪p值:"
   ]
  },
  {
   "cell_type": "code",
   "execution_count": null,
   "metadata": {
    "collapsed": true
   },
   "outputs": [],
   "source": [
    "pvals <- lisa_pvalues(lisa)\n",
    "pvals"
   ]
  },
  {
   "cell_type": "markdown",
   "metadata": {},
   "source": [
    "获取局部Moran计算的聚类类别:"
   ]
  },
  {
   "cell_type": "code",
   "execution_count": null,
   "metadata": {
    "collapsed": true
   },
   "outputs": [],
   "source": [
    "cats <- lisa_clusters(lisa, cutoff = 0.05)\n",
    "cats"
   ]
  },
  {
   "cell_type": "markdown",
   "metadata": {},
   "source": [
    "Local Moran聚类类别的预定义值为："
   ]
  },
  {
   "cell_type": "code",
   "execution_count": null,
   "metadata": {
    "collapsed": true
   },
   "outputs": [],
   "source": [
    "0 不显著\n",
    "1 高-高\n",
    "2 低-低\n",
    "3 高-低\n",
    "4 低-高\n",
    "5 无邻居\n",
    "6 未定以值"
   ]
  },
  {
   "cell_type": "markdown",
   "metadata": {},
   "source": [
    "不同的局部自相关分析方法设定的聚类类别值分别不同，可以调用方法`lisa_labels()`查看:"
   ]
  },
  {
   "cell_type": "code",
   "execution_count": null,
   "metadata": {
    "collapsed": true
   },
   "outputs": [],
   "source": [
    "lbls <- lisa_labels(lisa)\n",
    "lbls"
   ]
  },
  {
   "cell_type": "markdown",
   "metadata": {},
   "source": [
    "根据当前的p值计算伪发现率FDR"
   ]
  },
  {
   "cell_type": "code",
   "execution_count": null,
   "metadata": {
    "collapsed": true
   },
   "outputs": [],
   "source": [
    "fdr<-lisa_fdr(lisa, 0.05)\n",
    "fdr"
   ]
  },
  {
   "cell_type": "markdown",
   "metadata": {},
   "source": [
    "你可以设置FDR值伪p值的阈值来重新得到本地Moran的聚类结果："
   ]
  },
  {
   "cell_type": "code",
   "execution_count": null,
   "metadata": {
    "collapsed": true
   },
   "outputs": [],
   "source": [
    "cat_fdr<-lisa_clusters(lisa, cutoff = fdr)\n",
    "cat_fdr"
   ]
  },
  {
   "cell_type": "markdown",
   "metadata": {},
   "source": [
    "默认情况下，该local_moran()函数将使用一些默认参数运行，例如:\n",
    "\n",
    "随机置换的次数permutation number: 999\n",
    "计算CPU线程的数量ncpus: 8\n",
    "\n",
    "这些配置和GeoDa桌面软件相同，因此我们在rgeoda中重复与GeoDa相同的运算结果。\n",
    "\n",
    "rgeoda的函数也提供的不同的参数来设置，比如：不同的随机置换次数，和不同的CPU线程数。\n",
    "\n",
    "例如，使用9999个排列重新运行上述本地Moran示例"
   ]
  },
  {
   "cell_type": "code",
   "execution_count": null,
   "metadata": {
    "collapsed": true
   },
   "outputs": [],
   "source": [
    "lisa <- local_moran(queen_w, crm_prs, perm = 9999)\n",
    "pvals <- lisa_pvalues(lisa)\n",
    "pvals"
   ]
  },
  {
   "cell_type": "markdown",
   "metadata": {},
   "source": [
    "rgeoda使用GeoDa的C ++代码，其中多线程用于加速LISA的计算。比如我们可以指定要运行多少线程："
   ]
  },
  {
   "cell_type": "code",
   "execution_count": null,
   "metadata": {
    "collapsed": true
   },
   "outputs": [],
   "source": [
    "lisa <- local_moran(queen_w, crm_prs, ncpu = 4)\n",
    "lisa_pvalues(lisa)"
   ]
  },
  {
   "cell_type": "markdown",
   "metadata": {},
   "source": [
    "#### 4.1.2  局部Geary\n",
    "\n",
    "局部Geary是一种专注于平方差/差异性的局部自相关分析方法。本地Geary统计值的较小值表明空间自相关为正，而较大值表明空间自相关为负。而这种比较是和多次随机置换计算的平均本地Geary统计值进行的。\n",
    "\n",
    "进行本地Geary计算，我们只需要调用方法`local_geary()`:"
   ]
  },
  {
   "cell_type": "code",
   "execution_count": null,
   "metadata": {
    "collapsed": true
   },
   "outputs": [],
   "source": [
    "geary_crmprs <- local_geary(queen_w, crm_prs)"
   ]
  },
  {
   "cell_type": "markdown",
   "metadata": {},
   "source": [
    "要获取本地Geary计算的聚类指标："
   ]
  },
  {
   "cell_type": "code",
   "execution_count": null,
   "metadata": {
    "collapsed": true
   },
   "outputs": [],
   "source": [
    "lisa_clusters(geary_crmprs)"
   ]
  },
  {
   "cell_type": "markdown",
   "metadata": {},
   "source": [
    "要获取本地Geary计算的伪p值："
   ]
  },
  {
   "cell_type": "code",
   "execution_count": null,
   "metadata": {
    "collapsed": true
   },
   "outputs": [],
   "source": [
    "lisa_pvalues(geary_crmprs)"
   ]
  },
  {
   "cell_type": "markdown",
   "metadata": {},
   "source": [
    "#### 4.1.3 多元局部Geary:\n",
    "\n",
    "rgeoda也提供函数`local_multigeary()`来进行多变量的局部Geary计算，来分析多变量在局部的空间自相关性。\n",
    "\n",
    "比如，分析6个变量Crm_prs, Crm_prp, Litercy, Donatns, Infants 和Suicides，他们的值在空间分布上，是否具有局部的空间自相关性。\n",
    "\n",
    "请注意该“自相关”在局部Geary中指的是这些变量的值是否和观察对象邻居的值“相似”或者“不相似”。"
   ]
  },
  {
   "cell_type": "code",
   "execution_count": null,
   "metadata": {
    "collapsed": true
   },
   "outputs": [],
   "source": [
    "data <-as.list(guerry_df[c('Crm_prs','Crm_prp','Litercy','Donatns','Infants','Suicids')])\n",
    "multigeary <- local_multigeary(queen_w, data)"
   ]
  },
  {
   "cell_type": "markdown",
   "metadata": {},
   "source": [
    "要获取多元局部Geary计算的聚类指标："
   ]
  },
  {
   "cell_type": "code",
   "execution_count": null,
   "metadata": {
    "collapsed": true
   },
   "outputs": [],
   "source": [
    "lisa_clusters(multigeary)"
   ]
  },
  {
   "cell_type": "markdown",
   "metadata": {},
   "source": [
    "#### 4.1.4 局部 Getis-Ord G/G*\n",
    "\n",
    "局部Getis-Ord G统计信息有两种类型：一种是计算邻近位置的值的加权平均，不包括该位置的值（Local G);而另一种统计量则包括分子和分母中的位置值(Local G*)。\n",
    "\n",
    "如果观察对象i的值大于平均值则表示高-高或热区，小于平均值的值表示低-低或冷区。\n",
    "\n",
    "For example, we can call the function `local_g()` with the created Queen weights and the data “crm_prp” as input parameters:"
   ]
  },
  {
   "cell_type": "code",
   "execution_count": null,
   "metadata": {
    "collapsed": true
   },
   "outputs": [],
   "source": [
    "localg_crmprs <- local_g(queen_w, crm_prs)"
   ]
  },
  {
   "cell_type": "markdown",
   "metadata": {},
   "source": [
    "To get the cluster indicators of the local G computation:"
   ]
  },
  {
   "cell_type": "code",
   "execution_count": null,
   "metadata": {
    "collapsed": true
   },
   "outputs": [],
   "source": [
    "lisa_clusters(localg_crmprs)"
   ]
  },
  {
   "cell_type": "markdown",
   "metadata": {},
   "source": [
    "To get the pseudo-p values of the local G computation:"
   ]
  },
  {
   "cell_type": "code",
   "execution_count": null,
   "metadata": {
    "collapsed": true
   },
   "outputs": [],
   "source": [
    "lisa_pvalues(localg_crmprs)"
   ]
  },
  {
   "cell_type": "markdown",
   "metadata": {},
   "source": [
    "For the second type of local Getis-Ord statistics, we can call the function `local_gstar()` with the created Queen weights and the data “crm_prp” as input parameters:"
   ]
  },
  {
   "cell_type": "code",
   "execution_count": null,
   "metadata": {
    "collapsed": true
   },
   "outputs": [],
   "source": [
    "localgstar_crmprs <- local_gstar(queen_w, crm_prs)\n",
    "lisa_clusters(localgstar_crmprs)"
   ]
  },
  {
   "cell_type": "markdown",
   "metadata": {},
   "source": [
    "#### 4.1.5 Local Join Count\n",
    "\n",
    "\n",
    "Local Join Count is a method to identify local clusters for binary data by using a local version of the so-called BB join count statistic. The statistic is only meaningful for those observations with value 1. \n",
    "\n",
    "For example, we can call the function `local_joincount()` with a Queen weights and the data “TopCrm”, which is a set of binary (0,1) values, as input parameters:"
   ]
  },
  {
   "cell_type": "code",
   "execution_count": null,
   "metadata": {
    "collapsed": true
   },
   "outputs": [],
   "source": [
    "top_crm <- guerry_df['TopCrm'][,1]\n",
    "localjc_crm <- local_joincount(queen_w, top_crm)"
   ]
  },
  {
   "cell_type": "markdown",
   "metadata": {},
   "source": [
    "To get the cluster indicators of the local Join Count computation:"
   ]
  },
  {
   "cell_type": "code",
   "execution_count": null,
   "metadata": {
    "collapsed": true
   },
   "outputs": [],
   "source": [
    "lisa_clusters(localjc_crm)"
   ]
  },
  {
   "cell_type": "markdown",
   "metadata": {},
   "source": [
    "To get the pseudo-p values of the local Join Count  computation:"
   ]
  },
  {
   "cell_type": "code",
   "execution_count": null,
   "metadata": {
    "collapsed": true
   },
   "outputs": [],
   "source": [
    "lisa_pvalues(localjc_crm)"
   ]
  },
  {
   "cell_type": "markdown",
   "metadata": {},
   "source": [
    "To get the number of neighbors of the local Join Count computation:"
   ]
  },
  {
   "cell_type": "code",
   "execution_count": null,
   "metadata": {
    "collapsed": true
   },
   "outputs": [],
   "source": [
    "lisa_num_nbrs(localjc_crm)"
   ]
  },
  {
   "cell_type": "markdown",
   "metadata": {},
   "source": [
    "#### 4.1.6 Multivariate Local Join Count:"
   ]
  },
  {
   "cell_type": "code",
   "execution_count": null,
   "metadata": {
    "collapsed": true
   },
   "outputs": [],
   "source": [
    "bin_data <- as.list(guerry_df[c('TopWealth','TopLit')])\n",
    "multijc <- local_multijoincount(queen_w, bin_data)"
   ]
  },
  {
   "cell_type": "markdown",
   "metadata": {},
   "source": [
    "To get the cluster indicators of the multivariate local join count computation:"
   ]
  },
  {
   "cell_type": "code",
   "execution_count": null,
   "metadata": {
    "collapsed": true
   },
   "outputs": [],
   "source": [
    "lisa_clusters(multijc)"
   ]
  },
  {
   "cell_type": "markdown",
   "metadata": {},
   "source": [
    "#### 4.1.7 Quantile LISA"
   ]
  },
  {
   "cell_type": "code",
   "execution_count": null,
   "metadata": {
    "collapsed": true
   },
   "outputs": [],
   "source": [
    "qsa <- local_quantilelisa(queen_w, 4, 1, crm_prs)"
   ]
  },
  {
   "cell_type": "markdown",
   "metadata": {},
   "source": [
    "To get the cluster indicators of the quantile LISA computation:"
   ]
  },
  {
   "cell_type": "code",
   "execution_count": null,
   "metadata": {
    "collapsed": true
   },
   "outputs": [],
   "source": [
    "lisa_clusters(qsa)"
   ]
  },
  {
   "cell_type": "markdown",
   "metadata": {},
   "source": [
    "### 4.2 Spatializing Multivariate Analysis\n",
    "\n",
    "#### 4.2.1 Pincinple Components\n",
    "\n",
    "This PCA function aims to reproduce the PCA feature and results in GeoDa. However, one can use `prcomp` function in R to apply same PCA computations. \n",
    "\n",
    "For example, the following example will apply PCA on 6 variables. The `standardize()` function is called to standardize the data, which `pca()` function applies on. \n",
    "\n",
    "Other standardization functions include: `demean()` and `mad()`, which are same in GeoDa program."
   ]
  },
  {
   "cell_type": "code",
   "execution_count": null,
   "metadata": {
    "collapsed": true
   },
   "outputs": [],
   "source": [
    "#data <- as.list(guerry_df[c('Crm_prs','Crm_prp','Litercy','Donatns','Infants','Suicids')])\n",
    "std_data <- standardize(data)\n",
    "pc <- pca(std_data)\n",
    "summary(pc)"
   ]
  },
  {
   "cell_type": "markdown",
   "metadata": {},
   "source": [
    "With the returned object `pc`, one can call `get_kcomponents()` function to get first K components:\n",
    "\n",
    "For example, to get first 3 components"
   ]
  },
  {
   "cell_type": "code",
   "execution_count": null,
   "metadata": {
    "collapsed": true
   },
   "outputs": [],
   "source": [
    "get_kcomponents(pc, 3)"
   ]
  },
  {
   "cell_type": "markdown",
   "metadata": {},
   "source": [
    "#### 4.2.1 Multi Dimensional Scaling\n",
    "\n",
    "The mds() function is to apply multi-dimensional scaling on input data, with output of a K-dimensional array data. K should be an input parameter for mds() function. \n",
    "\n",
    "For example, to apply mds() on the 6 selected variables, and scaling down to a 2-d space:"
   ]
  },
  {
   "cell_type": "code",
   "execution_count": null,
   "metadata": {
    "collapsed": true
   },
   "outputs": [],
   "source": [
    "mds_v <- mds(std_data, 2)\n",
    "mds_v"
   ]
  },
  {
   "cell_type": "markdown",
   "metadata": {},
   "source": [
    "### 4.3 Spatial Clustering\n",
    "\n",
    " \n",
    "Spatial clustering aims to group of a large number of geographic areas or points into a smaller number of regions based on similiarities in one or more variables. Spatially constrained clustering is needed when clusters are required to be spatially contiguous. \n",
    "\n",
    "In GeoDa, there are three different approaches explicitly incorporate the contiguity constraint in the optimization process: SKATER, Redcap and Max-p. More more details, please check: http://geodacenter.github.io/workbook/8_spatial_clusters/lab8.html All of these methods are included in rgeoda 0.0.4.\n",
    "\n",
    "For example, to apply spatial clustering on the Guerry dataset, we use the queen weights to define the spatial contiguity and select 6 variables for similarity measure: \"Crm_prs\", \"Crm_prp\", \"Litercy\", \"Donatns\", \"Infants\", \"Suicids\". \n",
    "\n",
    "The following code is used to get a 2D data vector for the selected variables:"
   ]
  },
  {
   "cell_type": "code",
   "execution_count": null,
   "metadata": {
    "collapsed": true
   },
   "outputs": [],
   "source": [
    "data <- as.list(guerry_df[c('Crm_prs','Crm_prp','Litercy','Donatns','Infants','Suicids')])"
   ]
  },
  {
   "cell_type": "markdown",
   "metadata": {},
   "source": [
    "#### 4.3.1 SKATER\n",
    "\n",
    "The Spatial C(K)luster Analysis by Tree Edge Removal(SKATER) algorithm introduced by Assuncao et al. (2006) is based on the optimal pruning of a minimum spanning tree that reflects the contiguity structure among the observations. It provides an optimized algorithm to prune to tree into several clusters that their values of selected variables are as similar as possible.\n",
    "\n",
    "The rgeoda's SKATER function is:"
   ]
  },
  {
   "cell_type": "code",
   "execution_count": null,
   "metadata": {
    "collapsed": true
   },
   "outputs": [],
   "source": [
    "skater(k, w, data, distance_method='euclidean', bound_vals = [],  min_bound = 0, random_seed=123456789)"
   ]
  },
  {
   "cell_type": "markdown",
   "metadata": {},
   "source": [
    "For example, to create 4 spatially contiguous clusters using Guerry dataset, the queen weights and the values of the 6 selected variables:"
   ]
  },
  {
   "cell_type": "code",
   "execution_count": null,
   "metadata": {
    "collapsed": true
   },
   "outputs": [],
   "source": [
    "guerry_clusters <- skater(4, queen_w, data)\n",
    "guerry_clusters"
   ]
  },
  {
   "cell_type": "markdown",
   "metadata": {},
   "source": [
    "This `skater()` function returns a 2D list, which represents 4 clusters. Each cluster is composed by several contiguity areas, e.g. 15, 74, 16, 55, 60, 39, 68, 33, 17, 82, 81, 0, 2, 40, 20, 80\n",
    "\n",
    "rgeoda also provides utility functions to compute some descriptive statistics of the clustering results, e.g. to compute the ratio of between to total sum of squares:"
   ]
  },
  {
   "cell_type": "code",
   "execution_count": null,
   "metadata": {
    "collapsed": true
   },
   "outputs": [],
   "source": [
    "betweenss <- between_sumofsquare(guerry_clusters, data)\n",
    "totalss <- total_sumofsquare( data)\n",
    "ratio <-  betweenss / totalss\n",
    "cat(\"The ratio of between to total sum of square:\", ratio)"
   ]
  },
  {
   "cell_type": "markdown",
   "metadata": {},
   "source": [
    "#### 4.3.2 REDCAP\n",
    "\n",
    "REDCAP (Regionalization with dynamically constrained agglomerative clustering and partitioning) is developed by D. Guo (2008). Like SKATER, REDCAP starts from building a spanning tree with 3 different ways (single-linkage, average-linkage, and the complete-linkage). The single-linkage way leads to build a minimum spanning tree. Then,REDCAP provides 2 different ways (first‐order and full-order constraining) to prune the tree to find clusters. The first-order approach with a minimum spanning tree is exactly the same with SKATER. In GeoDa and rgeoda, the following methods are provided:\n",
    "\n",
    "* First-order and Single-linkage\n",
    "* Full-order and Complete-linkage\n",
    "* Full-order and Average-linkage\n",
    "* Full-order and Single-linkage\n",
    "\n",
    "For example, to find 4 clusters using the same dataset and weights as above using REDCAP with Full-order and Complete-linkage method:"
   ]
  },
  {
   "cell_type": "code",
   "execution_count": null,
   "metadata": {
    "collapsed": true
   },
   "outputs": [],
   "source": [
    "redcap_clusters <- redcap(4, queen_w, data, \"fullorder-completelinkage\")\n",
    "redcap_clusters\n",
    "\n",
    "betweenss <- between_sumofsquare(redcap_clusters, data)\n",
    "totalss <- total_sumofsquare( data)\n",
    "ratio <- betweenss / totalss\n",
    "cat(\"The ratio of between to total sum of square:\", ratio)"
   ]
  },
  {
   "cell_type": "markdown",
   "metadata": {},
   "source": [
    "#### 4.3.3 Max-p\n",
    "\n",
    "The so-called max-p regions model (outlined in Duque, Anselin, and Rey 2012) uses a different approach and considers the regionalization problem as an application of integer programming. In addition, the number of regions is determined endogenously.\n",
    "\n",
    "The algorithm itself consists of a search process that starts with an initial feasible solution and iteratively improves upon it while maintaining contiguity among the elements of each cluster. Like Geoda, rgeoda provides three different heuristic algorithms to find an optimal solution for max-p:\n",
    "\n",
    "* greedy\n",
    "* Tabu Search\n",
    "* Simulated Annealing\n",
    "\n",
    "Unlike SKATER and REDCAP that one can specify the number of clusters as an input paramter, max-p doesn't allow to specify the number of clusters explicitly, but a constrained variable and the minimum bounding value that each cluster should reach that are used to find an optimized number of clusters.\n",
    "\n",
    "For example, to use `greedy` algorithm in maxp function with the same dataset and weights as above to find optimal clusters using max-p:\n",
    "\n",
    "First, we need to specify, for example, every cluster must have population >= 3236.67 thousands people:"
   ]
  },
  {
   "cell_type": "code",
   "execution_count": null,
   "metadata": {
    "collapsed": true
   },
   "outputs": [],
   "source": [
    "bound_vals <- guerry_df['Pop1831'][,1]\n",
    "min_bound <- 3236.67 # 10% of Pop1831"
   ]
  },
  {
   "cell_type": "markdown",
   "metadata": {},
   "source": [
    "Then, we can call the max-p function with \"greedy\" algorith, the bound values and minimum bound value:"
   ]
  },
  {
   "cell_type": "code",
   "execution_count": null,
   "metadata": {
    "collapsed": true
   },
   "outputs": [],
   "source": [
    "maxp_clusters <- maxp(queen_w, data, bound_vals, min_bound, \"greedy\")\n",
    "\n",
    "betweenss <- between_sumofsquare(maxp_clusters, data)\n",
    "ratio <- betweenss / totalss\n",
    "cat(\"The ratio of between to total sum of square:\", ratio)"
   ]
  },
  {
   "cell_type": "markdown",
   "metadata": {},
   "source": [
    "We can also specify using `tabu search` algorithm in maxp function with the parameter of tabu length:"
   ]
  },
  {
   "cell_type": "code",
   "execution_count": null,
   "metadata": {
    "collapsed": true
   },
   "outputs": [],
   "source": [
    "maxp_tabu_clusters <- maxp(queen_w, data, bound_vals, min_bound, \"tabu\", tabu_length=95)\n",
    "\n",
    "betweenss <- between_sumofsquare(maxp_tabu_clusters, data)\n",
    "ratio <- betweenss / totalss\n",
    "cat(\"The ratio of between to total sum of square:\", ratio)"
   ]
  },
  {
   "cell_type": "markdown",
   "metadata": {},
   "source": [
    "To apply `simulated annealing` algorithm in maxp function with the parameter of cooling rate:"
   ]
  },
  {
   "cell_type": "code",
   "execution_count": null,
   "metadata": {
    "collapsed": true
   },
   "outputs": [],
   "source": [
    "maxp_sa_clusters <- maxp(queen_w, data, bound_vals, min_bound, \"sa\", cool_rate=0.75)\n",
    "\n",
    "betweenss <- between_sumofsquare(maxp_sa_clusters, data)\n",
    "ratio <- betweenss / totalss\n",
    "cat(\"The ratio of between to total sum of square:\", ratio)"
   ]
  },
  {
   "cell_type": "markdown",
   "metadata": {},
   "source": [
    "We can also increase the number of iterations for local search process by specifying the parameter `initial` (default value is 99):"
   ]
  },
  {
   "cell_type": "code",
   "execution_count": null,
   "metadata": {
    "collapsed": true
   },
   "outputs": [],
   "source": [
    "maxp_clusters <- maxp(queen_w, data, bound_vals, min_bound, \"greedy\", initial=1000)\n",
    "\n",
    "betweenss <- between_sumofsquare(maxp_clusters, data)\n",
    "ratio <- betweenss / totalss\n",
    "cat(\"Tratio of between to total sum of square:\", ratio)"
   ]
  }
 ],
 "metadata": {
  "kernelspec": {
   "display_name": "R",
   "language": "R",
   "name": "ir"
  },
  "language_info": {
   "codemirror_mode": "r",
   "file_extension": ".r",
   "mimetype": "text/x-r-source",
   "name": "R",
   "pygments_lexer": "r",
   "version": "3.6.1"
  }
 },
 "nbformat": 4,
 "nbformat_minor": 2
}
